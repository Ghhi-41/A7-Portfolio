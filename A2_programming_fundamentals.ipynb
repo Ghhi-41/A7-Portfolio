{
  "nbformat": 4,
  "nbformat_minor": 0,
  "metadata": {
    "colab": {
      "provenance": []
    },
    "kernelspec": {
      "name": "python3",
      "display_name": "Python 3"
    }
  },
  "cells": [
    {
      "cell_type": "markdown",
      "metadata": {
        "id": "USgNaQC8fB1q"
      },
      "source": [
        "# Instructions\n",
        "\n",
        "**Rationale.** The fundamentals of programming (data types, conditional statements, loops, functions) are necessary for you to develop a foundation on which to build data analytics skills. This assignment consists of 2 parts. In the first part, correct the existing code to successfully accomplish the stated task. In the second part, you will be asked to write your own code.\n",
        "\n",
        "Feel free to add additional cells if/when necessary. Comment your solutions to explain your code to communicate your reasoning. This may help you receive partial credit."
      ]
    },
    {
      "cell_type": "markdown",
      "metadata": {
        "id": "l5vgtMP0fzdZ"
      },
      "source": [
        "# Part 1 - Fix the code.\n",
        "\n",
        "Note that there may be multiple mistakes in the code."
      ]
    },
    {
      "cell_type": "markdown",
      "metadata": {
        "id": "apqz0JS5gKmI"
      },
      "source": [
        "1. (3 points) Loop through customer names and select only the ones whose **first name begins with \"A\"**"
      ]
    },
    {
      "cell_type": "code",
      "metadata": {
        "id": "OQzktOjDgPC8",
        "colab": {
          "base_uri": "https://localhost:8080/"
        },
        "outputId": "40eea682-f361-489d-9e37-7312e3adcadf"
      },
      "source": [
        "customers = [('Adam', 'Smith'), ('Mary', 'Samsonite'), ('Pancho', 'Sanchez'), ('Lily', 'Wang'), ('Curtis', 'Jackson'), ('Anne', 'Shirley'), ('Alex', 'Hamilton'), ('Bill', 'Shakespeare'), ('Steve', 'Sondheim')]\n",
        "# Use a list comprehension to select the customer name tuples for which\n",
        "# the 1st item (first name) begins with 'A'\n",
        "acustomers = [a for a in customers if a[0][0] == 'A']\n",
        "print(acustomers)"
      ],
      "execution_count": null,
      "outputs": [
        {
          "output_type": "stream",
          "name": "stdout",
          "text": [
            "[('Adam', 'Smith'), ('Anne', 'Shirley'), ('Alex', 'Hamilton')]\n"
          ]
        }
      ]
    },
    {
      "cell_type": "markdown",
      "metadata": {
        "id": "akJIzDg-hWCQ"
      },
      "source": [
        "2. (3 points) Fix the function below that computes the break even price given a product's marginal costs (MC), fixed costs to set up a factory line (FC), and some quantity produced, (Q). Run the function on a series of production quantities given an MC and FC to compute the corresponding break even prices.\n",
        "\n",
        "Note, break even means the revenue = total costs, i.e. $P\\times Q = FC+Q*MC$. One can solve this equation for $P$ to get the break even price, $P = \\frac{FC}{Q}+MC$.\n"
      ]
    },
    {
      "cell_type": "code",
      "metadata": {
        "id": "BhsAUHF3ile9"
      },
      "source": [
        "def breakevenprice(FC, MC, Q): # fix this line\n",
        "    P = FC / Q + MC # fix this line\n",
        "    return P"
      ],
      "execution_count": null,
      "outputs": []
    },
    {
      "cell_type": "code",
      "metadata": {
        "id": "DRedJYf6mwqV",
        "colab": {
          "base_uri": "https://localhost:8080/"
        },
        "outputId": "a588dd99-e7b0-47fa-9bc7-d09e3c47ac23"
      },
      "source": [
        "# Don't change this part\n",
        "Quantities = [500,1000,1500,2000,2500,3000]\n",
        "FC = 20000\n",
        "MC = 20\n",
        "\n",
        "# fix the errors here:\n",
        "# make sure the list of break even prices is printed JUST ONCE\n",
        "BEPrices = []\n",
        "for Q in Quantities: # loop through Qunatities (error here)\n",
        "    P = breakevenprice(FC, MC, Q) # compute break even price (error here)\n",
        "    BEPrices.append(P) # append break even price to the list BEPrices (error here)\n",
        "print(BEPrices) # Print out all the break even prices (error here)"
      ],
      "execution_count": null,
      "outputs": [
        {
          "output_type": "stream",
          "name": "stdout",
          "text": [
            "[60.0, 40.0, 33.333333333333336, 30.0, 28.0, 26.666666666666668]\n"
          ]
        }
      ]
    },
    {
      "cell_type": "markdown",
      "metadata": {
        "id": "F5KPe1rgnQ9E"
      },
      "source": [
        "# Part 2 (4 points) - Write your own code to solve the problem\n",
        "\n",
        "Suppose you have a list of leads that need to be qualified. Each lead is composed of the following things:\n",
        "\n",
        "1. ID (integer)\n",
        "1. Income (Integer)\n",
        "1. Debt (Integer)\n",
        "1. Married (1 for married, 0 for not)\n",
        "\n",
        "Your company has 2 different offers depending on the qualifications of the individual, offer A and offer B.\n",
        "\n",
        "1. Offer A qualification:\n",
        "    1. Income is **at least** double their total debt.\n",
        "    1. Marital status does not matter.\n",
        "1. Offer B qualifications:\n",
        "    1. Income is less than twice their total debt\n",
        "    1. but (income) greater than or equal to half their total debt.\n",
        "    1. Must be married.\n",
        "1. Otherwise, no offer is to be made.\n",
        "\n",
        "Write a function called `offer` that (**2 points**)\n",
        "1. takes as input: one record of a lead\n",
        "1. returns \"A\", \"B\", or \"None\" based on the rules above.\n",
        "\n",
        "**Test this function on a list of leads provided below.** (**2 points**)\n",
        "\n",
        "Each lead is a tuple of (ID, income, debt, married), i.e. (1, 25000, 12000, 1) is id 1, 25k income, 12k debt, and married."
      ]
    },
    {
      "cell_type": "code",
      "metadata": {
        "id": "6Ygmlk7psA0B"
      },
      "source": [
        "# Write your function here\n",
        "# Hint: your function should have the following STRUCTURE\n",
        "# specifics will need to be changed\n",
        "# def offer(record):\n",
        "    # if condition1: # for offer A\n",
        "    #     do something\n",
        "    # elif condition2: # for offer B\n",
        "    #     do something\n",
        "    # else: # no offer to be made\n",
        "    #     do something else\n",
        "\n",
        "OfferA = []\n",
        "OfferB = []\n",
        "NoOffer = []\n",
        "def offer(record):\n",
        "    a = record[0]\n",
        "    b = record[1]\n",
        "    c = record[2]\n",
        "    d = record[3]\n",
        "\n",
        "    if b >= c * 2:  # for offer A\n",
        "        return 1,a\n",
        "    elif b < c * 2 and b >= c / 2 and d == 1:  # for offer B\n",
        "        return 2,a\n",
        "    else:  # no offer to be made\n",
        "        return 3,a"
      ],
      "execution_count": null,
      "outputs": []
    },
    {
      "cell_type": "code",
      "metadata": {
        "id": "vuCLzRyubO1V",
        "colab": {
          "base_uri": "https://localhost:8080/"
        },
        "outputId": "cdc556c1-8e92-4db6-fe9b-a360d19eb5a9"
      },
      "source": [
        "# Test your function on a single record to make sure it works\n",
        "r = (1, 25000,12000,1)\n",
        "# does your function work on r? i.e. does offer(r) return the expected offer?\n",
        "# Try changing values of r to see if it gives the expected offer each time\n",
        "offer(r)"
      ],
      "execution_count": null,
      "outputs": [
        {
          "output_type": "execute_result",
          "data": {
            "text/plain": [
              "(1, 1)"
            ]
          },
          "metadata": {},
          "execution_count": 18
        }
      ]
    },
    {
      "cell_type": "code",
      "metadata": {
        "id": "n9ZWfK8IndYl",
        "colab": {
          "base_uri": "https://localhost:8080/"
        },
        "outputId": "b713e07e-d3d0-406b-dc97-639072f63772"
      },
      "source": [
        "# Write a loop to execute the function offer on each of the records\n",
        "# in the list leads.\n",
        "leads = [(1, 25000,12000,1),(2, 50000,25000,0),(3, 125000,200000,1),(4, 25000,0,0),(5, 30000,80000,1),(6, 50000,80000,0)]\n",
        "\n",
        "# Write your loop here (you can also use a list comprehension instead of loop)\n",
        "# loop through each lead in \"leads\" and execute the offer function on that lead\n",
        "\n",
        "for lead in leads:\n",
        "    offer_type, lead_id = offer(lead)\n",
        "    if offer_type == 1:\n",
        "        OfferA.append(lead_id)\n",
        "    elif offer_type == 2:\n",
        "        OfferB.append(lead_id)\n",
        "    else:\n",
        "        NoOffer.append(lead_id)\n",
        "\n",
        "print('Offer A:', OfferA)\n",
        "print('Offer B:', OfferB)\n",
        "print('No Offer:', NoOffer)"
      ],
      "execution_count": null,
      "outputs": [
        {
          "output_type": "stream",
          "name": "stdout",
          "text": [
            "Offer A: [1, 2, 4]\n",
            "Offer B: [3]\n",
            "No Offer: [5, 6]\n"
          ]
        }
      ]
    }
  ]
}